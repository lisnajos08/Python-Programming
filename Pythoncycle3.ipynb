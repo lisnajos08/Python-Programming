{
  "nbformat": 4,
  "nbformat_minor": 0,
  "metadata": {
    "colab": {
      "name": "Pythoncycle3",
      "provenance": [],
      "collapsed_sections": [],
      "authorship_tag": "ABX9TyMASb8feWRufkA9vjQtM6d5",
      "include_colab_link": true
    },
    "kernelspec": {
      "name": "python3",
      "display_name": "Python 3"
    }
  },
  "cells": [
    {
      "cell_type": "markdown",
      "metadata": {
        "id": "view-in-github",
        "colab_type": "text"
      },
      "source": [
        "<a href=\"https://colab.research.google.com/github/lisnajos08/Python-Programming/blob/main/Pythoncycle3.ipynb\" target=\"_parent\"><img src=\"https://colab.research.google.com/assets/colab-badge.svg\" alt=\"Open In Colab\"/></a>"
      ]
    },
    {
      "cell_type": "code",
      "metadata": {
        "colab": {
          "base_uri": "https://localhost:8080/"
        },
        "id": "Pv-c7Pg6uUgy",
        "outputId": "2e278ab6-fba4-49b6-f67d-40d408576cce"
      },
      "source": [
        "#1)Program to find the factorial of a number in python.\r\n",
        "\r\n",
        "\r\n",
        "n=int(input(\"Enter any number :\"))\r\n",
        "fact=1\r\n",
        "i=1\r\n",
        "while i<=n:\r\n",
        "        fact=fact*i\r\n",
        "        i=i+1\r\n",
        "print(\"Factorial of\",n,\"is\",fact)        "
      ],
      "execution_count": null,
      "outputs": [
        {
          "output_type": "stream",
          "text": [
            "Enter any number :6\n",
            "Factorial of 6 is 720\n"
          ],
          "name": "stdout"
        }
      ]
    },
    {
      "cell_type": "code",
      "metadata": {
        "colab": {
          "base_uri": "https://localhost:8080/"
        },
        "id": "aQ3X3vBBvTb5",
        "outputId": "440662e4-9cad-4ef4-9914-1a5e2e6adbf7"
      },
      "source": [
        "#2)Generate Fibonacci series of N terms.\r\n",
        "\r\n",
        "\r\n",
        "n=int(input(\"Enter the value of n : \"))\r\n",
        "a=0\r\n",
        "b=1\r\n",
        "sum=0\r\n",
        "count=1\r\n",
        "print(\"Fibonacci series : \")\r\n",
        "while (count<=n):\r\n",
        "  print(sum,end=\" \")\r\n",
        "  count+=1\r\n",
        "  a=b\r\n",
        "  b=sum\r\n",
        "  sum=a+b"
      ],
      "execution_count": null,
      "outputs": [
        {
          "output_type": "stream",
          "text": [
            "Enter the value of n : 4\n",
            "Fibonacci series : \n",
            "0 1 1 2 "
          ],
          "name": "stdout"
        }
      ]
    },
    {
      "cell_type": "code",
      "metadata": {
        "id": "qF-pIg_HzHyQ",
        "colab": {
          "base_uri": "https://localhost:8080/"
        },
        "outputId": "00765505-60d8-473e-8027-887d22ee5275"
      },
      "source": [
        "#3)Find the sum of all items in a list.\r\n",
        "\r\n",
        "\r\n",
        "n=[]\r\n",
        "x=int(input(\"Enter the limit of list elements :\"))\r\n",
        "for i in range(1,x+1):\r\n",
        "    a=int(input())\r\n",
        "    n.append(a)\r\n",
        "t=sum(n)\r\n",
        "print (\"sum of all element in this list is :\",t)    "
      ],
      "execution_count": null,
      "outputs": [
        {
          "output_type": "stream",
          "text": [
            "Enter the limit of list elements :5\n",
            "1\n",
            "3\n",
            "5\n",
            "7\n",
            "9\n",
            "sum of all element in this list is : 25\n"
          ],
          "name": "stdout"
        }
      ]
    },
    {
      "cell_type": "code",
      "metadata": {
        "colab": {
          "base_uri": "https://localhost:8080/"
        },
        "id": "H8I8x3FPM-i-",
        "outputId": "149c235d-2ddd-400f-f407-816e4ad4fd80"
      },
      "source": [
        "#4) Generate a list of four digit numbers in a given range with all their digits even and the number is a perfect square.\r\n",
        "\r\n",
        "for i in range(1000,10000):\r\n",
        "  for j in range(32,100):\r\n",
        "    if i==j*j:\r\n",
        "      a=str(i)\r\n",
        "      if (int(a[0])%2==0 and int(a[1])%2==0 and int(a[2])%2==0 and int(a[3])%2==0):\r\n",
        "        print(i)"
      ],
      "execution_count": null,
      "outputs": [
        {
          "output_type": "stream",
          "text": [
            "4624\n",
            "6084\n",
            "6400\n",
            "8464\n"
          ],
          "name": "stdout"
        }
      ]
    },
    {
      "cell_type": "code",
      "metadata": {
        "colab": {
          "base_uri": "https://localhost:8080/"
        },
        "id": "6htaGfAeOTpW",
        "outputId": "c80b59e2-2fbb-4701-92e3-128bbfcb54e3"
      },
      "source": [
        "#5) Display the given pyramid with step number accepted from user,Eg: N=4.\r\n",
        "\r\n",
        "\r\n",
        "def py(n):\r\n",
        "  x=1\r\n",
        "  for i in range(1, n+1):\r\n",
        "    for j in range(1, i+1):\r\n",
        "      print(x, end=\" \")\r\n",
        "      x=x+i\r\n",
        "    x=i+1\r\n",
        "    print(\"\\r\")\r\n",
        "\r\n",
        "n=int(input(\"Enter the limit :\"))\r\n",
        "py(n)      "
      ],
      "execution_count": null,
      "outputs": [
        {
          "output_type": "stream",
          "text": [
            "Enter the limit :4\n",
            "1 \n",
            "2 4 \n",
            "3 6 9 \n",
            "4 8 12 16 \n"
          ],
          "name": "stdout"
        }
      ]
    },
    {
      "cell_type": "code",
      "metadata": {
        "colab": {
          "base_uri": "https://localhost:8080/"
        },
        "id": "j0Dgsn78Q7_s",
        "outputId": "97dc3987-af70-4543-c956-dcb5921c60a6"
      },
      "source": [
        "#6) Count the number of characters (character frequency) in a string.\r\n",
        "\r\n",
        "def freq(s):\r\n",
        "  s=s.lower()\r\n",
        "  dict={}\r\n",
        "  for ch in s :\r\n",
        "    keys = dict.keys()\r\n",
        "    if ch in keys :\r\n",
        "      dict[ch]+=1\r\n",
        "    else:\r\n",
        "      dict[ch]=1\r\n",
        "  return dict\r\n",
        "s=input(\"Enter any string : \")\r\n",
        "print(\"The character frequency of the given string\",s,\"are :\")\r\n",
        "print(freq(s))  \r\n"
      ],
      "execution_count": null,
      "outputs": [
        {
          "output_type": "stream",
          "text": [
            "Enter any string : successfully\n",
            "The character frequency of the given string successfully are :\n",
            "{'s': 3, 'u': 2, 'c': 2, 'e': 1, 'f': 1, 'l': 2, 'y': 1}\n"
          ],
          "name": "stdout"
        }
      ]
    },
    {
      "cell_type": "code",
      "metadata": {
        "colab": {
          "base_uri": "https://localhost:8080/"
        },
        "id": "Q-RbWmmvqYYg",
        "outputId": "b81b3aca-f648-48c8-dedc-d6ba8edeaac3"
      },
      "source": [
        "#9) Construct following pattern using nested loop : * * * * * * * * * * * * * * * * * * * * * * * * *\r\n",
        "\r\n",
        "for i in range(5):\r\n",
        "  for j in range(i+1):\r\n",
        "    print(\"* \",end=\"\")\r\n",
        "  print()\r\n",
        "for i in range(4):\r\n",
        "  for j in range(i, 4):\r\n",
        "    print(\"* \",end=\"\")\r\n",
        "  print()"
      ],
      "execution_count": 6,
      "outputs": [
        {
          "output_type": "stream",
          "text": [
            "* \n",
            "* * \n",
            "* * * \n",
            "* * * * \n",
            "* * * * * \n",
            "* * * * \n",
            "* * * \n",
            "* * \n",
            "* \n"
          ],
          "name": "stdout"
        }
      ]
    }
  ]
}