{
  "nbformat": 4,
  "nbformat_minor": 0,
  "metadata": {
    "colab": {
      "name": "Pythoncycle2",
      "provenance": [],
      "collapsed_sections": [],
      "authorship_tag": "ABX9TyNnWlza1wcuJOFFXd17jMRP",
      "include_colab_link": true
    },
    "kernelspec": {
      "display_name": "Python 3",
      "name": "python3"
    }
  },
  "cells": [
    {
      "cell_type": "markdown",
      "metadata": {
        "id": "view-in-github",
        "colab_type": "text"
      },
      "source": [
        "<a href=\"https://colab.research.google.com/github/lisnajos08/Python-Programming/blob/main/Pythoncycle2.ipynb\" target=\"_parent\"><img src=\"https://colab.research.google.com/assets/colab-badge.svg\" alt=\"Open In Colab\"/></a>"
      ]
    },
    {
      "cell_type": "code",
      "metadata": {
        "colab": {
          "base_uri": "https://localhost:8080/"
        },
        "id": "tay6CJj4rtP0",
        "outputId": "454eac51-e604-49ea-bf05-8c16251fd663"
      },
      "source": [
        "#2.\r\n",
        "s=int(input(\"Enter starting year:\"))\r\n",
        "e=int(input(\"Enter ending year:\"))\r\n",
        "print(\"leap years between\",s,\"and\",e)\r\n",
        "while(s <= e):\r\n",
        "    if ((s%400==0) or ((s%4==0) and (s%100!=0))):\r\n",
        "      print(s)\r\n",
        "    s=s+1  "
      ],
      "execution_count": null,
      "outputs": [
        {
          "output_type": "stream",
          "text": [
            "Enter starting year:2000\n",
            "Enter ending year:2021\n",
            "leap years between 2000 and 2021\n",
            "2000\n",
            "2004\n",
            "2008\n",
            "2012\n",
            "2016\n",
            "2020\n"
          ],
          "name": "stdout"
        }
      ]
    },
    {
      "cell_type": "code",
      "metadata": {
        "colab": {
          "base_uri": "https://localhost:8080/"
        },
        "id": "2TsNHsAGtEkB",
        "outputId": "8ee7d581-f3a2-4c6a-f6d7-cc230b7c91b0"
      },
      "source": [
        "#3(a).\r\n",
        "x=[]\r\n",
        "n=int(input(\"Enter list of items:\"))\r\n",
        "for i in range(1,n+1):\r\n",
        "    a=int(input(\"Enter the value of %d item:\"%i))\r\n",
        "    x.append(a)\r\n",
        "y=[num for num in x if num >=0]\r\n",
        "print(\"Initial list of integers is:\",x)\r\n",
        "print(\"Modified list of positive numbers is:\",y)    "
      ],
      "execution_count": null,
      "outputs": [
        {
          "output_type": "stream",
          "text": [
            "Enter list of items:3\n",
            "Enter the value of 1 item:3\n",
            "Enter the value of 2 item:-6\n",
            "Enter the value of 3 item:-2\n",
            "Initial list of integers is: [3, -6, -2]\n",
            "Modified list of positive numbers is: [3]\n"
          ],
          "name": "stdout"
        }
      ]
    },
    {
      "cell_type": "code",
      "metadata": {
        "colab": {
          "base_uri": "https://localhost:8080/"
        },
        "id": "G3Ru5f4JwArq",
        "outputId": "e4d1b7f6-ee12-4bdf-99f1-0f870ebfb91f"
      },
      "source": [
        "#3(b).\r\n",
        "x=[]\r\n",
        "n=int(input(\"Enter list of items:\"))\r\n",
        "for i in range(1,n+1):\r\n",
        "    a=int(input(\"Enter the value of %d item:\"%i))\r\n",
        "    x.append(a)\r\n",
        "b=(num**2 for num in x)\r\n",
        "print(\"Initial list of N numbers:\",x)\r\n",
        "y=list(b)\r\n",
        "print(\"Square list of N numbers:\",y)    "
      ],
      "execution_count": null,
      "outputs": [
        {
          "output_type": "stream",
          "text": [
            "Enter list of items:4\n",
            "Enter the value of 1 item:1\n",
            "Enter the value of 2 item:2\n",
            "Enter the value of 3 item:3\n",
            "Enter the value of 4 item:4\n",
            "Initial list of N numbers: [1, 2, 3, 4]\n",
            "Square list of N numbers: [1, 4, 9, 16]\n"
          ],
          "name": "stdout"
        }
      ]
    },
    {
      "cell_type": "code",
      "metadata": {
        "colab": {
          "base_uri": "https://localhost:8080/"
        },
        "id": "c6PpXbAzxpFC",
        "outputId": "540b4bfd-a54f-47ca-dc2f-27cd764845d2"
      },
      "source": [
        "#3(c).\r\n",
        "w=input(\"Enter any word:\")\r\n",
        "v=[l for l in w if l in 'aeiou']\r\n",
        "print(\"List of vowels in\",w,\":\",v)\r\n"
      ],
      "execution_count": null,
      "outputs": [
        {
          "output_type": "stream",
          "text": [
            "Enter any word:aeroplane\n",
            "List of vowels in aeroplane : ['a', 'e', 'o', 'a', 'e']\n"
          ],
          "name": "stdout"
        }
      ]
    },
    {
      "cell_type": "code",
      "metadata": {
        "colab": {
          "base_uri": "https://localhost:8080/"
        },
        "id": "RtZ47-AuysB8",
        "outputId": "1d456ccc-d5d8-4cd6-cdc0-80f6cdfb9a91"
      },
      "source": [
        "#3(d).\r\n",
        "w=input(\"Enter any word:\")\r\n",
        "for l in range(len(w)):\r\n",
        "  print(\"ASCII value is\" ,w[l],\"is\",ord(w[l]))"
      ],
      "execution_count": null,
      "outputs": [
        {
          "output_type": "stream",
          "text": [
            "Enter any word:pen\n",
            "ASCII value is p is 112\n",
            "ASCII value is e is 101\n",
            "ASCII value is n is 110\n"
          ],
          "name": "stdout"
        }
      ]
    },
    {
      "cell_type": "code",
      "metadata": {
        "colab": {
          "base_uri": "https://localhost:8080/"
        },
        "id": "To0q_YEzzxuB",
        "outputId": "2922d40f-cb70-47db-e602-119a53f72ff6"
      },
      "source": [
        "#4.\r\n",
        "def word_count(str):\r\n",
        "    counts = dict()\r\n",
        "    words = str.split()\r\n",
        "    for word in words:\r\n",
        "        if word in counts:\r\n",
        "            counts[word] += 1\r\n",
        "        else:\r\n",
        "            counts[word] = 1\r\n",
        "    return counts\r\n",
        "str=input(\"Enter any text:\")\r\n",
        "print(word_count(str))                "
      ],
      "execution_count": null,
      "outputs": [
        {
          "output_type": "stream",
          "text": [
            "Enter any text:It is very very important\n",
            "{'It': 1, 'is': 1, 'very': 2, 'important': 1}\n"
          ],
          "name": "stdout"
        }
      ]
    },
    {
      "cell_type": "code",
      "metadata": {
        "colab": {
          "base_uri": "https://localhost:8080/"
        },
        "id": "bnNVf65i1nEs",
        "outputId": "b1e42cb7-5528-4c53-cb1f-ef5f76f31c49"
      },
      "source": [
        "#5.\r\n",
        "x=[]\r\n",
        "n=int(input(\"Enter any integers:\"))\r\n",
        "for i in range(1,n+1):\r\n",
        "  a=int(input())\r\n",
        "  if (a>100):\r\n",
        "    x.append('over')\r\n",
        "  else:\r\n",
        "    x.append(a)\r\n",
        "print(\"Modified list:\",x)      "
      ],
      "execution_count": null,
      "outputs": [
        {
          "output_type": "stream",
          "text": [
            "Enter any integers:4\n",
            "20\n",
            "80\n",
            "200\n",
            "100\n",
            "Modified list: [20, 80, 'over', 100]\n"
          ],
          "name": "stdout"
        }
      ]
    },
    {
      "cell_type": "code",
      "metadata": {
        "colab": {
          "base_uri": "https://localhost:8080/"
        },
        "id": "f6JpaQVT6jl2",
        "outputId": "5d4e4d31-b422-4e78-c2bf-70cbeeaf6355"
      },
      "source": [
        "#9.\r\n",
        "def change(str):\r\n",
        "      return str[-1:] + str[1:-1] + str[:1]\r\n",
        "str=input(\"Enter any string:\")\r\n",
        "print(\"Modified string:\",change(str))      "
      ],
      "execution_count": null,
      "outputs": [
        {
          "output_type": "stream",
          "text": [
            "Enter any string:python\n",
            "Modified string: nythop\n"
          ],
          "name": "stdout"
        }
      ]
    },
    {
      "cell_type": "code",
      "metadata": {
        "colab": {
          "base_uri": "https://localhost:8080/"
        },
        "id": "ZcD3uZJU-JcZ",
        "outputId": "3e5f4c8b-c569-41d3-a89f-f1a0d1b1c59c"
      },
      "source": [
        "#10.\r\n",
        "r=int(input(\"Enter the radius of the circle:\"))\r\n",
        "print(\"Area of the circle is:\",3.14*r*r)"
      ],
      "execution_count": null,
      "outputs": [
        {
          "output_type": "stream",
          "text": [
            "Enter the radius of the circle:5\n",
            "Area of the circle is: 78.5\n"
          ],
          "name": "stdout"
        }
      ]
    },
    {
      "cell_type": "code",
      "metadata": {
        "colab": {
          "base_uri": "https://localhost:8080/"
        },
        "id": "iXLK_fPr_ZHY",
        "outputId": "0aab882d-e874-4c4c-f627-f7c8c50e1954"
      },
      "source": [
        "#11.\r\n",
        "a = float(input(\"Enter the first value:\"))\r\n",
        "b = float(input(\"Enter the second value:\"))\r\n",
        "c = float(input(\"Enter the third value:\"))\r\n",
        "if (a > b and a > c):\r\n",
        "  print(a,\"is bigger than both\",b,\"and\",c)\r\n",
        "elif (b > a and b > c):\r\n",
        "  print(b,\"is bigger than both\",a,\"and\",c ) \r\n",
        "elif(c > a and c > b):\r\n",
        "  print(c,\"is bigger than both\",a,\"and\",b)\r\n",
        "else:\r\n",
        "  print(\"either any two values or all the three values are equal\")     \r\n"
      ],
      "execution_count": null,
      "outputs": [
        {
          "output_type": "stream",
          "text": [
            "Enter the first value:4\n",
            "Enter the second value:9\n",
            "Enter the third value:1\n",
            "9.0 is bigger than both 4.0 and 1.0\n"
          ],
          "name": "stdout"
        }
      ]
    },
    {
      "cell_type": "code",
      "metadata": {
        "colab": {
          "base_uri": "https://localhost:8080/"
        },
        "id": "i8YQclcXB-fx",
        "outputId": "2edb6754-e4aa-4259-dd93-53bf634021e3"
      },
      "source": [
        "#12.\r\n",
        "f=input(\"Enter any filename:\")\r\n",
        "x=f.split(\".\")\r\n",
        "print(\"extension of the file is\",x[-1])"
      ],
      "execution_count": null,
      "outputs": [
        {
          "output_type": "stream",
          "text": [
            "Enter any filename:p.ipynb\n",
            "extension of the file is ipynb\n"
          ],
          "name": "stdout"
        }
      ]
    },
    {
      "cell_type": "code",
      "metadata": {
        "colab": {
          "background_save": true,
          "base_uri": "https://localhost:8080/"
        },
        "id": "hNGFmeQ5CqJE",
        "outputId": "8828f31c-9b81-4f3d-ebd1-e25ad9cfd0d8"
      },
      "source": [
        "#18.\r\n",
        "k1=input(\"Enter first key:\")\r\n",
        "k2=input(\"Enter second key:\")\r\n",
        "v1=input(\"Enter first value:\")\r\n",
        "v2=input(\"Enter second value:\")\r\n",
        "dict1={}\r\n",
        "dict2={}\r\n",
        "dict1[k1]=v1\r\n",
        "dict2[k2]=v2\r\n",
        "def merge_dictionaries(x,y):\r\n",
        "  z = {**x,**y}\r\n",
        "  print(\"merged dictionary is :\")\r\n",
        "  return z\r\n",
        "print(merge_dictionaries(dict1,dict2))  \r\n"
      ],
      "execution_count": null,
      "outputs": [
        {
          "output_type": "stream",
          "text": [
            "merged dictionary is :\n",
            "{'dog': 'fluffy', 'cat': 'cute'}\n"
          ],
          "name": "stdout"
        }
      ]
    },
    {
      "cell_type": "code",
      "metadata": {
        "colab": {
          "base_uri": "https://localhost:8080/"
        },
        "id": "cGfmM8KoaXD8",
        "outputId": "d99f98cc-ea9f-4324-dbf9-22b6503a1d26"
      },
      "source": [
        "#19\r\n",
        "n1=float(input(\"Enter the first value : \"))\r\n",
        "n2=float(input(\"Enter the second value : \"))\r\n",
        "x=n1\r\n",
        "y=n2\r\n",
        "while (n2 != 0):\r\n",
        "  temp=n2\r\n",
        "  n2=n1%n2\r\n",
        "  n1=temp\r\n",
        "gcd=n1\r\n",
        "print(\"GCD of\",x,\"and\",y,\"is\",gcd)  "
      ],
      "execution_count": 1,
      "outputs": [
        {
          "output_type": "stream",
          "text": [
            "Enter the first value : 12\n",
            "Enter the second value : 36\n",
            "GCD of 12.0 and 36.0 is 12.0\n"
          ],
          "name": "stdout"
        }
      ]
    },
    {
      "cell_type": "code",
      "metadata": {
        "colab": {
          "base_uri": "https://localhost:8080/"
        },
        "id": "DyaNAVMHbn-Y",
        "outputId": "bdaf7094-db43-4418-d1c3-96b57138fbf9"
      },
      "source": [
        "#20\r\n",
        "x=[]\r\n",
        "n=int(input(\"Enter list items : \"))\r\n",
        "for i in range(1,n+1):\r\n",
        "    a=int(input(\"Enter the value of %d item : \"%i))\r\n",
        "    x.append(a)\r\n",
        "for i in x:\r\n",
        "  if (i%2 == 0):\r\n",
        "    x.remove(i)\r\n",
        "print(\"Modified list after removing even numbers :\")\r\n",
        "print(x)    \r\n"
      ],
      "execution_count": 2,
      "outputs": [
        {
          "output_type": "stream",
          "text": [
            "Enter list items : 3\n",
            "Enter the value of 1 item : 6\n",
            "Enter the value of 2 item : -7\n",
            "Enter the value of 3 item : 8\n",
            "Modified list after removing even numbers :\n",
            "[-7]\n"
          ],
          "name": "stdout"
        }
      ]
    },
    {
      "cell_type": "code",
      "metadata": {
        "colab": {
          "base_uri": "https://localhost:8080/"
        },
        "id": "0LbWfc4sdxXg",
        "outputId": "7c73d1b6-b581-40a2-cdaa-485ff1da78cb"
      },
      "source": [
        "#17\r\n",
        "k1=input(\"Enter first key : \")\r\n",
        "k2=input(\"Enter second key : \")\r\n",
        "k3=input(\"Enter third key : \")\r\n",
        "k4=input(\"Enter fourth key : \")\r\n",
        "k5=input(\"Enter fifth key : \")\r\n",
        "v1=input(\"Enter first value : \")\r\n",
        "v2=input(\"Enter second value : \")\r\n",
        "v3=input(\"Enter third value : \")\r\n",
        "v4=input(\"Enter fourth value : \")\r\n",
        "v5=input(\"Enter fifth value : \")\r\n",
        "d={}\r\n",
        "d[k1]=v1\r\n",
        "d[k2]=v2\r\n",
        "d[k3]=v3\r\n",
        "d[k4]=v4\r\n",
        "d[k5]=v5\r\n",
        "l=list(d.items())\r\n",
        "l.sort()\r\n",
        "print(\"Ascending order is : \",l)\r\n",
        "l=list(d.items())\r\n",
        "l.sort(reverse = True)\r\n",
        "print(\"Descending order is : \",l)"
      ],
      "execution_count": 3,
      "outputs": [
        {
          "output_type": "stream",
          "text": [
            "Enter first key : 1\n",
            "Enter second key : 4\n",
            "Enter third key : 2\n",
            "Enter fourth key : 5\n",
            "Enter fifth key : 3\n",
            "Enter first value : apple\n",
            "Enter second value : orange\n",
            "Enter third value : mango\n",
            "Enter fourth value : kiwi\n",
            "Enter fifth value : cherry\n",
            "Ascending order is :  [('1', 'apple'), ('2', 'mango'), ('3', 'cherry'), ('4', 'orange'), ('5', 'kiwi')]\n",
            "Descending order is :  [('5', 'kiwi'), ('4', 'orange'), ('3', 'cherry'), ('2', 'mango'), ('1', 'apple')]\n"
          ],
          "name": "stdout"
        }
      ]
    },
    {
      "cell_type": "code",
      "metadata": {
        "colab": {
          "base_uri": "https://localhost:8080/"
        },
        "id": "mCi80DunheoX",
        "outputId": "ceb5ebb8-9cb0-4123-904a-2be08f0b6473"
      },
      "source": [
        "#16\r\n",
        "x=input(\"Enter the first string : \")\r\n",
        "y=input(\"Enter the second string : \")\r\n",
        "def swapch(x,y):\r\n",
        "  a = y[:1] + x[1:]\r\n",
        "  b = x[:1] + y[1:]\r\n",
        "  return a + ' ' + b\r\n",
        "print(swapch(x,y))"
      ],
      "execution_count": 4,
      "outputs": [
        {
          "output_type": "stream",
          "text": [
            "Enter the first string : drop\n",
            "Enter the second string : cope\n",
            "crop dope\n"
          ],
          "name": "stdout"
        }
      ]
    },
    {
      "cell_type": "code",
      "metadata": {
        "colab": {
          "base_uri": "https://localhost:8080/"
        },
        "id": "TwtKDTbLsbgy",
        "outputId": "015ca0c8-7e29-4c56-aa0e-3ab144b2ef03"
      },
      "source": [
        "#14\r\n",
        "a=int(input(\"Enter any integer : \"))\r\n",
        "n1=int(\"%s\" %a)\r\n",
        "n2=int(\"%s%s\" %(a,a))\r\n",
        "n3=int(\"%s%s%s\" %(a,a,a))\r\n",
        "print(\"value of n+nn+nnn is : \",n1+n2+n3)"
      ],
      "execution_count": 14,
      "outputs": [
        {
          "output_type": "stream",
          "text": [
            "Enter any integer : 2\n",
            "value of n+nn+nnn is :  246\n"
          ],
          "name": "stdout"
        }
      ]
    },
    {
      "cell_type": "code",
      "metadata": {
        "colab": {
          "base_uri": "https://localhost:8080/"
        },
        "id": "glm9On5Jun2J",
        "outputId": "4d38f482-ae50-48e6-926f-5988df0f30bf"
      },
      "source": [
        "#13\r\n",
        "c=[]\r\n",
        "x=int(input(\"Enter limit for list : \"))\r\n",
        "for i in range(1,x+1):\r\n",
        "  a=input()\r\n",
        "  c.append(a)\r\n",
        "print(c)\r\n",
        "print(c[0],c[-1]) \r\n"
      ],
      "execution_count": 15,
      "outputs": [
        {
          "output_type": "stream",
          "text": [
            "Enter limit for list : 4\n",
            "white\n",
            "grey\n",
            "black\n",
            "brown\n",
            "['white', 'grey', 'black', 'brown']\n",
            "white brown\n"
          ],
          "name": "stdout"
        }
      ]
    },
    {
      "cell_type": "code",
      "metadata": {
        "colab": {
          "base_uri": "https://localhost:8080/"
        },
        "id": "T98GeHilvmir",
        "outputId": "e37ebe18-0ab6-4d80-82c2-22b96d218e15"
      },
      "source": [
        "#8\r\n",
        "str=input(\"Enter any string : \")\r\n",
        "def rep_ch(str1):\r\n",
        "  char=str1[0]\r\n",
        "  str1=str1.replace(char,'$')\r\n",
        "  str1=char+str1[1:]\r\n",
        "  return str1\r\n",
        "print(rep_ch(str))  "
      ],
      "execution_count": 16,
      "outputs": [
        {
          "output_type": "stream",
          "text": [
            "Enter any string : elephant\n",
            "el$phant\n"
          ],
          "name": "stdout"
        }
      ]
    },
    {
      "cell_type": "code",
      "metadata": {
        "colab": {
          "base_uri": "https://localhost:8080/"
        },
        "id": "laPiPR5CyTaC",
        "outputId": "cb1ebe12-3803-4a3e-9301-a6d2c6bb736d"
      },
      "source": [
        "#7\r\n",
        "x=[]\r\n",
        "a=int(input(\"Enter limit for list1 : \"))\r\n",
        "for i in range(1,a+1):\r\n",
        "  a=int(input())\r\n",
        "  x.append(a)\r\n",
        "print(x)\r\n",
        "y=[]\r\n",
        "b=int(input(\"Enter limit for list2 : \"))\r\n",
        "for i in range(1,b+1):\r\n",
        "  b=int(input()) \r\n",
        "  y.append(b)\r\n",
        "print(y) \r\n",
        "if (len(x)==len(y)):\r\n",
        "  print(\"list1 and list2 are of same length i.e.\",len(x))\r\n",
        "else:\r\n",
        "  print(\"list1 and list2 are of different length.\") \r\n",
        "if (sum(x)==sum(y)):\r\n",
        "  print(\"list1 and list2 sums to the same value i.e.\",sum(x))\r\n",
        "else:\r\n",
        "  print(\"list1 and list2 sums up to different values.\")\r\n",
        "def common(x, y):\r\n",
        "    p=set(x)\r\n",
        "    q=set(y)\r\n",
        "    if len(p.intersection(q)) > 0:\r\n",
        "       return(p.intersection(q))\r\n",
        "    else:\r\n",
        "       return(\"no common elements\")\r\n",
        "print(\"value that occur in both lists is/are :\",common(x,y))          \r\n",
        "\r\n"
      ],
      "execution_count": 21,
      "outputs": [
        {
          "output_type": "stream",
          "text": [
            "Enter limit for list1 : 3\n",
            "9\n",
            "6\n",
            "3\n",
            "[9, 6, 3]\n",
            "Enter limit for list2 : 3\n",
            "9\n",
            "7\n",
            "2\n",
            "[9, 7, 2]\n",
            "list1 and list2 are of same length i.e. 3\n",
            "list1 and list2 sums to the same value i.e. 18\n",
            "value that occur in both lists is/are : {9}\n"
          ],
          "name": "stdout"
        }
      ]
    },
    {
      "cell_type": "code",
      "metadata": {
        "colab": {
          "base_uri": "https://localhost:8080/"
        },
        "id": "bylXEBcL_olw",
        "outputId": "90c65c1e-3daa-4b5a-8a84-b4ce62af10bf"
      },
      "source": [
        "#6\r\n",
        "l=[]\r\n",
        "x=int(input(\"Enter the limit : \"))\r\n",
        "for i in range(1,x+1):\r\n",
        "  x=input(\"Enter the first name : \")\r\n",
        "  l.append(x)\r\n",
        "  count = x.count('a')\r\n",
        "  print(\"Number of time a is present in name:\",count)"
      ],
      "execution_count": 24,
      "outputs": [
        {
          "output_type": "stream",
          "text": [
            "Enter the limit : 3\n",
            "Enter the first name : ajith\n",
            "Number of time a is present in name: 1\n",
            "Enter the first name : aravind\n",
            "Number of time a is present in name: 2\n",
            "Enter the first name : amala\n",
            "Number of time a is present in name: 3\n"
          ],
          "name": "stdout"
        }
      ]
    },
    {
      "cell_type": "code",
      "metadata": {
        "colab": {
          "base_uri": "https://localhost:8080/"
        },
        "id": "_UjsCeSbBZhJ",
        "outputId": "0f079dcb-45a7-40fd-cf13-0d3a4c2f6bfb"
      },
      "source": [
        "#1\r\n",
        "n=input(\"Enter your house number : \")\r\n",
        "hname=input(\"Enter your house name : \")\r\n",
        "s=input(\"Enter your street name : \" )\r\n",
        "t=input(\"Enter your town/city : \" )\r\n",
        "d=input(\"Enter your district : \" )\r\n",
        "state=input(\"Enter your state : \" )\r\n",
        "country=input(\"Enter your country : \" )\r\n",
        "pin=int(input(\"Enter your postcode : \"))\r\n",
        "print(\"\\nAddress Details :\\n\" + \"\\nHousenumber :\",n,\"\\nHouse :\",hname,\"\\nStreet : \",s,\"\\nTown/City : \",t,\"\\nDistrict : \",d,\"\\nState : \",state,\r\n",
        "      \r\n",
        "      \"\\nCountry : \",country,\"\\nPostcode : \",pin)"
      ],
      "execution_count": 26,
      "outputs": [
        {
          "output_type": "stream",
          "text": [
            "Enter your house number : 242\n",
            "Enter your house name : Valiyaparambil\n",
            "Enter your street name : Peringulam\n",
            "Enter your town/city : Poonjar\n",
            "Enter your district : Kottayam\n",
            "Enter your state : Kerala\n",
            "Enter your country : India\n",
            "Enter your postcode : 686582\n",
            "\n",
            "Address Details :\n",
            "\n",
            "Housenumber : 242 \n",
            "House : Valiyaparambil \n",
            "Street :  Peringulam \n",
            "Town/City :  Poonjar \n",
            "District :  Kottayam \n",
            "State :  Kerala \n",
            "Country :  India \n",
            "Postcode :  686582\n"
          ],
          "name": "stdout"
        }
      ]
    },
    {
      "cell_type": "code",
      "metadata": {
        "id": "a_7ypYFAKlbl",
        "outputId": "35b38c19-0c33-4ba0-f955-27a12af8d977",
        "colab": {
          "base_uri": "https://localhost:8080/"
        }
      },
      "source": [
        "#15\r\n",
        "c1=[]\r\n",
        "x=int(input(\"Enter limit for list1 : \"))\r\n",
        "for i in range(1,x+1):\r\n",
        "  a=input()\r\n",
        "  c1.append(a)\r\n",
        "  p=set(c1)\r\n",
        "print(p)\r\n",
        "c2=[]\r\n",
        "y=int(input(\"Enter limit for list2 : \"))\r\n",
        "for i in range(1,y+1):\r\n",
        "  b=input()\r\n",
        "  c2.append(b)\r\n",
        "  q=set(c2)\r\n",
        "print(q)\r\n",
        "print(p.difference(q))    "
      ],
      "execution_count": 31,
      "outputs": [
        {
          "output_type": "stream",
          "text": [
            "Enter limit for list1 : 3\n",
            "red\n",
            "green\n",
            "blue\n",
            "{'green', 'blue', 'red'}\n",
            "Enter limit for list2 : 3\n",
            "yellow \n",
            "orange \n",
            "red\n",
            "{'yellow ', 'orange ', 'red'}\n",
            "{'green', 'blue'}\n"
          ],
          "name": "stdout"
        }
      ]
    }
  ]
}