{
  "nbformat": 4,
  "nbformat_minor": 0,
  "metadata": {
    "colab": {
      "name": "Python",
      "provenance": [],
      "collapsed_sections": [],
      "authorship_tag": "ABX9TyO+8wCqhfKaGXCUDBKySHcx",
      "include_colab_link": true
    },
    "kernelspec": {
      "name": "python3",
      "display_name": "Python 3"
    }
  },
  "cells": [
    {
      "cell_type": "markdown",
      "metadata": {
        "id": "view-in-github",
        "colab_type": "text"
      },
      "source": [
        "<a href=\"https://colab.research.google.com/github/lisnajos08/Python-Programming/blob/main/Python.ipynb\" target=\"_parent\"><img src=\"https://colab.research.google.com/assets/colab-badge.svg\" alt=\"Open In Colab\"/></a>"
      ]
    },
    {
      "cell_type": "code",
      "metadata": {
        "colab": {
          "base_uri": "https://localhost:8080/"
        },
        "id": "Y9fWP7ucrAtp",
        "outputId": "cc79ccd9-4204-4ac4-f1e9-c1faa6010843"
      },
      "source": [
        "print(\"Hello,World!\")"
      ],
      "execution_count": null,
      "outputs": [
        {
          "output_type": "stream",
          "text": [
            "Hello,World!\n"
          ],
          "name": "stdout"
        }
      ]
    },
    {
      "cell_type": "code",
      "metadata": {
        "colab": {
          "base_uri": "https://localhost:8080/"
        },
        "id": "sJyzge-FrPyv",
        "outputId": "c05d0082-1303-48cc-cb8c-29e832016520"
      },
      "source": [
        "num=int(input(\"Enter the integer:\"))\r\n",
        "print(\"You entered\",num)"
      ],
      "execution_count": null,
      "outputs": [
        {
          "output_type": "stream",
          "text": [
            "Enter the integer:5\n",
            "You entered 5\n"
          ],
          "name": "stdout"
        }
      ]
    },
    {
      "cell_type": "code",
      "metadata": {
        "colab": {
          "base_uri": "https://localhost:8080/"
        },
        "id": "vNgfQJOhrdNV",
        "outputId": "97a44723-92c2-4348-ce0c-34c9395ac9ce"
      },
      "source": [
        "num1 = 15\r\n",
        "num2 = 12\r\n",
        "sum = num1 + num2\r\n",
        "print(\"The sum of given numbers is:\",sum)"
      ],
      "execution_count": null,
      "outputs": [
        {
          "output_type": "stream",
          "text": [
            "The sum of given numbers is: 27\n"
          ],
          "name": "stdout"
        }
      ]
    },
    {
      "cell_type": "code",
      "metadata": {
        "colab": {
          "base_uri": "https://localhost:8080/"
        },
        "id": "sw4DWICsr1SS",
        "outputId": "8452dbdb-62c7-4ddb-d336-14d740246600"
      },
      "source": [
        "num1=float(input(\"Enter first number:\"))\r\n",
        "num2=float(input(\"Enter second number:\"))\r\n",
        "mul=num1*num2;\r\n",
        "print(\"The product of given numbers is:\",mul)"
      ],
      "execution_count": null,
      "outputs": [
        {
          "output_type": "stream",
          "text": [
            "Enter first number:2.5\n",
            "Enter second number:3.5\n",
            "The product of given numbers is: 8.75\n"
          ],
          "name": "stdout"
        }
      ]
    },
    {
      "cell_type": "code",
      "metadata": {
        "colab": {
          "base_uri": "https://localhost:8080/"
        },
        "id": "YNA9kiYgsY-C",
        "outputId": "4b8a4dab-6705-4bc3-fca9-552cffc5ee12"
      },
      "source": [
        "dividend=int(input(\"Enter the dividend:\"))\r\n",
        "divisor=int(input(\"Enter the divisor:\"))\r\n",
        "quotient=dividend//divisor;\r\n",
        "remainder=dividend%divisor;\r\n",
        "print(\"Quotient is:\",quotient)\r\n",
        "print(\"remainder is:\",remainder)"
      ],
      "execution_count": null,
      "outputs": [
        {
          "output_type": "stream",
          "text": [
            "Enter the dividend:200\n",
            "Enter the divisor:30\n",
            "Quotient is: 6\n",
            "remainder is: 20\n"
          ],
          "name": "stdout"
        }
      ]
    },
    {
      "cell_type": "code",
      "metadata": {
        "colab": {
          "base_uri": "https://localhost:8080/"
        },
        "id": "o6l00S0NtE4w",
        "outputId": "36fec28b-a6ae-482e-c657-dd59b904396a"
      },
      "source": [
        "x = 5\r\n",
        "y = 10\r\n",
        "\r\n",
        "x,y = y,x\r\n",
        "print(\"x =\",x)\r\n",
        "print(\"y =\",y)"
      ],
      "execution_count": null,
      "outputs": [
        {
          "output_type": "stream",
          "text": [
            "x = 10\n",
            "y = 5\n"
          ],
          "name": "stdout"
        }
      ]
    },
    {
      "cell_type": "code",
      "metadata": {
        "colab": {
          "base_uri": "https://localhost:8080/"
        },
        "id": "Nya-Ao64tWS7",
        "outputId": "1ee3b20b-405e-49f4-dd4a-145b269bce90"
      },
      "source": [
        "num = int(input(\"Enter a number:\"))\r\n",
        "mod = num % 2\r\n",
        "if mod > 0:\r\n",
        "    print(\"This is an odd number.\")\r\n",
        "else:\r\n",
        "    print(\"This is an even number.\")    "
      ],
      "execution_count": null,
      "outputs": [
        {
          "output_type": "stream",
          "text": [
            "Enter a number:8\n",
            "This is an even number.\n"
          ],
          "name": "stdout"
        }
      ]
    },
    {
      "cell_type": "code",
      "metadata": {
        "colab": {
          "base_uri": "https://localhost:8080/"
        },
        "id": "sQEEVUOPvDM6",
        "outputId": "b1b48d23-7e43-4517-caae-598846ee9b6c"
      },
      "source": [
        "ch = input(\"Enter a character:\")\r\n",
        "\r\n",
        "if(ch=='A' or ch=='a' or ch=='E' or ch=='e' or ch=='I' or ch=='i' or ch=='O' or ch=='o' or ch=='U' or ch=='u'):\r\n",
        "   print(ch, \"is a Vowel\")\r\n",
        "else:\r\n",
        "   print(ch, \"is a Consonant\")     "
      ],
      "execution_count": null,
      "outputs": [
        {
          "output_type": "stream",
          "text": [
            "Enter a character:a\n",
            "a is a Vowel\n"
          ],
          "name": "stdout"
        }
      ]
    },
    {
      "cell_type": "code",
      "metadata": {
        "colab": {
          "base_uri": "https://localhost:8080/"
        },
        "id": "yv-v0qOKv3b3",
        "outputId": "99cad10e-872c-4db0-ad1a-9f55198e035c"
      },
      "source": [
        "num1=int(input(\"Enter the first number:\"))\r\n",
        "num2=int(input(\"Enter the second number:\"))\r\n",
        "num3=int(input(\"Enter the third number:\"))\r\n",
        "if(num1>num2) and (num1>num3):\r\n",
        "    biggest=num1;\r\n",
        "elif (num2>num1) and (num2>num3):\r\n",
        "    biggest=num2;\r\n",
        "else:\r\n",
        "    biggest=num3;\r\n",
        "print(\"The largest number is\",biggest);            "
      ],
      "execution_count": null,
      "outputs": [
        {
          "output_type": "stream",
          "text": [
            "Enter the first number:45\n",
            "Enter the second number:24\n",
            "Enter the third number:52\n",
            "The largest number is 52\n"
          ],
          "name": "stdout"
        }
      ]
    },
    {
      "cell_type": "code",
      "metadata": {
        "colab": {
          "base_uri": "https://localhost:8080/"
        },
        "id": "kdpW-bkLw-qg",
        "outputId": "22e7fefa-906c-4ef2-bfde-d30b686b6d32"
      },
      "source": [
        "year = int(input(\"Enter Year:\"))\r\n",
        "if year % 4 == 0 and year % 100 != 0:\r\n",
        "   print(year, \"is a Leap Year\")\r\n",
        "elif year % 100 == 0:\r\n",
        "   print(year, \"is not a Leap Year\")\r\n",
        "elif year % 400 == 0:\r\n",
        "   print(year, \"is a Leap Year\")\r\n",
        "else:\r\n",
        "   print(year, \"is not a Leap Year\")       "
      ],
      "execution_count": null,
      "outputs": [
        {
          "output_type": "stream",
          "text": [
            "Enter Year:2008\n",
            "2008 is a Leap Year\n"
          ],
          "name": "stdout"
        }
      ]
    },
    {
      "cell_type": "code",
      "metadata": {
        "colab": {
          "base_uri": "https://localhost:8080/"
        },
        "id": "5cBcykWcyUKF",
        "outputId": "7945f221-7af6-4fc7-fac4-44cad902a892"
      },
      "source": [
        "num = float(input(\"Enter a number:\"))\r\n",
        "if num > 0:\r\n",
        "   print(\"Positive number\")\r\n",
        "elif num == 0:\r\n",
        "   print(\"Zero\")\r\n",
        "else:\r\n",
        "   print(\"Negative number\")      "
      ],
      "execution_count": null,
      "outputs": [
        {
          "output_type": "stream",
          "text": [
            "Enter a number:5\n",
            "Positive number\n"
          ],
          "name": "stdout"
        }
      ]
    },
    {
      "cell_type": "code",
      "metadata": {
        "colab": {
          "base_uri": "https://localhost:8080/"
        },
        "id": "jmqHLqwOzFWh",
        "outputId": "4a3e2ec2-ad1c-44c3-eeee-67837bb37338"
      },
      "source": [
        "num = int(input(\"Enter a number:\"))\r\n",
        "\r\n",
        "if num < 0:\r\n",
        "   print(\"Enter a positive number\")\r\n",
        "else:\r\n",
        "   sum = 0\r\n",
        "\r\n",
        "   while(num > 0):\r\n",
        "       sum += num\r\n",
        "       num -= 1\r\n",
        "   print(\"The sum is\",sum)       "
      ],
      "execution_count": null,
      "outputs": [
        {
          "output_type": "stream",
          "text": [
            "Enter a number:10\n",
            "The sum is 55\n"
          ],
          "name": "stdout"
        }
      ]
    },
    {
      "cell_type": "code",
      "metadata": {
        "colab": {
          "base_uri": "https://localhost:8080/"
        },
        "id": "Gyees5Lsz_nk",
        "outputId": "21f99ee5-5b94-4d0b-91a4-3afa1bdc4e26"
      },
      "source": [
        "num = int(input(\"Enter a number:\"))\r\n",
        "factorial = 1\r\n",
        "if num < 0:\r\n",
        "   print(\"Sorry, factorial does not exist for negative numbers\")\r\n",
        "elif num == 0:\r\n",
        "   print(\"The factorial of 0 is 1\")\r\n",
        "else:\r\n",
        "   for i in range(1,num + 1):\r\n",
        "       factorial = factorial*i\r\n",
        "   print(\"The factorial of\",num,\"is\",factorial)           "
      ],
      "execution_count": null,
      "outputs": [
        {
          "output_type": "stream",
          "text": [
            "Enter a number:4\n",
            "The factorial of 4 is 24\n"
          ],
          "name": "stdout"
        }
      ]
    },
    {
      "cell_type": "code",
      "metadata": {
        "colab": {
          "base_uri": "https://localhost:8080/"
        },
        "id": "vgKShLGj1pJI",
        "outputId": "173a462e-91be-413b-81ac-883ae25e7b32"
      },
      "source": [
        "num = int(input(\"Enter the number:\"))\r\n",
        "\r\n",
        "print(\"Multiplication Table of\",num)\r\n",
        "for i in range(1,11):\r\n",
        "   print(num,\"X\",i,\"=\", num * i) "
      ],
      "execution_count": null,
      "outputs": [
        {
          "output_type": "stream",
          "text": [
            "Enter the number:5\n",
            "Multiplication Table of 5\n",
            "5 X 1 = 5\n",
            "5 X 2 = 10\n",
            "5 X 3 = 15\n",
            "5 X 4 = 20\n",
            "5 X 5 = 25\n",
            "5 X 6 = 30\n",
            "5 X 7 = 35\n",
            "5 X 8 = 40\n",
            "5 X 9 = 45\n",
            "5 X 10 = 50\n"
          ],
          "name": "stdout"
        }
      ]
    },
    {
      "cell_type": "code",
      "metadata": {
        "id": "etEx4Qhf2S4o",
        "colab": {
          "base_uri": "https://localhost:8080/"
        },
        "outputId": "db6c8ace-f7bd-40fb-a2c4-223e2f216901"
      },
      "source": [
        "def recur_fibo(n):\r\n",
        "   if n <= 1:\r\n",
        "       return n\r\n",
        "   else:\r\n",
        "       return(recur_fibo(n-1) + recur_fibo(n-2)) \r\n",
        "nterms = 10  \r\n",
        "if nterms <= 0:\r\n",
        "   print(\"Please enter a positive integer\")\r\n",
        "else:\r\n",
        "   print(\"Fibonacci sequence:\")\r\n",
        "   for i in range(nterms):\r\n",
        "       print(recur_fibo(i))         "
      ],
      "execution_count": null,
      "outputs": [
        {
          "output_type": "stream",
          "text": [
            "Fibonacci sequence:\n",
            "0\n",
            "1\n",
            "1\n",
            "2\n",
            "3\n",
            "5\n",
            "8\n",
            "13\n",
            "21\n",
            "34\n"
          ],
          "name": "stdout"
        }
      ]
    },
    {
      "cell_type": "code",
      "metadata": {
        "colab": {
          "base_uri": "https://localhost:8080/"
        },
        "id": "__3GvZ1l3313",
        "outputId": "407f510f-1cb9-4a98-b150-850961cfa1e9"
      },
      "source": [
        "a=int(input(\"Enter the first number:\"))\r\n",
        "b=int(input(\"Enter the second number:\"))\r\n",
        "if(a>b):\r\n",
        "    min1=a\r\n",
        "else:\r\n",
        "    min1=b\r\n",
        "while(1):\r\n",
        "    if(min1%a==0 and min1%b==0):\r\n",
        "        print(\"LCM is:\",min1) \r\n",
        "        break\r\n",
        "    min1=min1+1           "
      ],
      "execution_count": null,
      "outputs": [
        {
          "output_type": "stream",
          "text": [
            "Enter the first number:5\n",
            "Enter the second number:3\n",
            "LCM is: 15\n"
          ],
          "name": "stdout"
        }
      ]
    },
    {
      "cell_type": "code",
      "metadata": {
        "colab": {
          "base_uri": "https://localhost:8080/"
        },
        "id": "QtTl2ptu_KnU",
        "outputId": "109236d3-cf8e-49d3-db6d-151bd13ee6ec"
      },
      "source": [
        "n=int(input(\"Enter number:\"))\r\n",
        "count=0\r\n",
        "while(n>0):\r\n",
        "    count=count+1\r\n",
        "    n=n//10\r\n",
        "print(\"The number of digits in the number are:\",count)    "
      ],
      "execution_count": null,
      "outputs": [
        {
          "output_type": "stream",
          "text": [
            "Enter number:4785\n",
            "The number of digits in the number are: 4\n"
          ],
          "name": "stdout"
        }
      ]
    },
    {
      "cell_type": "code",
      "metadata": {
        "colab": {
          "base_uri": "https://localhost:8080/"
        },
        "id": "trpnzO-pADtV",
        "outputId": "d541f29d-3b23-4c71-cd0e-521252b9667a"
      },
      "source": [
        "n = 4562;\r\n",
        "rev = 0\r\n",
        "\r\n",
        "while(n > 0):\r\n",
        "    a = n % 10\r\n",
        "    rev = rev * 10 + a\r\n",
        "    n=n//10\r\n",
        "\r\n",
        "print(rev)     "
      ],
      "execution_count": null,
      "outputs": [
        {
          "output_type": "stream",
          "text": [
            "2654\n"
          ],
          "name": "stdout"
        }
      ]
    },
    {
      "cell_type": "code",
      "metadata": {
        "colab": {
          "base_uri": "https://localhost:8080/"
        },
        "id": "vKBupC-ZEBAl",
        "outputId": "b5a61b3d-4c9a-4366-9744-5402db89f36c"
      },
      "source": [
        "def power(base,exp):\r\n",
        "    if(exp==1):\r\n",
        "        return(base)\r\n",
        "    if(exp!=1):\r\n",
        "        return(base*power(base,exp-1)) \r\n",
        "base=int(input(\"Enter base:\"))\r\n",
        "exp=int(input(\"Enter exponential value:\")) \r\n",
        "print(\"Result:\",power(base,exp))       \r\n"
      ],
      "execution_count": null,
      "outputs": [
        {
          "output_type": "stream",
          "text": [
            "Enter base:5\n",
            "Enter exponential value:4\n",
            "Result: 625\n"
          ],
          "name": "stdout"
        }
      ]
    },
    {
      "cell_type": "code",
      "metadata": {
        "colab": {
          "base_uri": "https://localhost:8080/"
        },
        "id": "NXe8XxDpF1eA",
        "outputId": "c3995329-de0f-4ca9-b1f5-680e9ae58ba8"
      },
      "source": [
        "n=int(input(\"Enter number:\"))\r\n",
        "temp=n\r\n",
        "rev=0\r\n",
        "while(n>0):\r\n",
        "    dig=n%10\r\n",
        "    rev=rev*10+dig\r\n",
        "    n=n//10\r\n",
        "if(temp==rev):\r\n",
        "    print(\"The number is a palindrome!\")\r\n",
        "else:\r\n",
        "    print(\"The number isn't a palindrome!\")        "
      ],
      "execution_count": null,
      "outputs": [
        {
          "output_type": "stream",
          "text": [
            "Enter number:121\n",
            "The number is a palindrome!\n"
          ],
          "name": "stdout"
        }
      ]
    }
  ]
}